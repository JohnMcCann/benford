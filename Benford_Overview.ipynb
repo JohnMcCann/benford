{
 "cells": [
  {
   "cell_type": "markdown",
   "metadata": {},
   "source": [
    "# Benford's Law of anomalous numbers"
   ]
  },
  {
   "cell_type": "code",
   "execution_count": null,
   "metadata": {},
   "outputs": [],
   "source": [
    "import numpy as np\n",
    "import matplotlib.pyplot as plt\n",
    "cc = plt.rcParams['axes.prop_cycle'].by_key()['color']\n",
    "%matplotlib inline\n",
    "\n",
    "from benford import benford"
   ]
  },
  {
   "cell_type": "markdown",
   "metadata": {},
   "source": [
    "## How does Benford law arise?\n",
    "\n",
    "When drawing from a log-normal distribution (here we use $500$ samples), the null hypothesis is hard to reject."
   ]
  },
  {
   "cell_type": "code",
   "execution_count": null,
   "metadata": {},
   "outputs": [],
   "source": [
    "# draw from lognormal distribution\n",
    "lognorm = np.random.lognormal(size=500)\n",
    "# normalize so each draw rounds to an integer greater than 0\n",
    "lognorm = np.asarray(lognorm/(10**np.floor(np.log10(lognorm.min()))),\n",
    "                     dtype=int)\n",
    "# generate benford object\n",
    "ben_lognorm = benford(data=lognorm, base=10, fd_loc=1, n_digits=1)\n",
    "\n",
    "# make benford distribution plot\n",
    "fig, ax = plt.subplots()\n",
    "ben_lognorm.plot_benford_data(ax, print_numbers=True, sparse_frame=True)\n",
    "fig.tight_layout()\n",
    "\n",
    "# make confidence bound plots\n",
    "fig, ax = plt.subplots()\n",
    "ben_lognorm.confidence_plot(ax)\n",
    "fig.tight_layout()\n",
    "\n",
    "# determine which digits are rejected\n",
    "digits_rejected = ben_lognorm.null_test()"
   ]
  },
  {
   "cell_type": "markdown",
   "metadata": {},
   "source": [
    "However, when well sampled (here we use $5\\times10^4$ samples) the null hypothesis is more readily rejectet—as it should be."
   ]
  },
  {
   "cell_type": "code",
   "execution_count": null,
   "metadata": {},
   "outputs": [],
   "source": [
    "# draw from lognormal distribution\n",
    "lognorm_50k = np.random.lognormal(size=50000)\n",
    "# normalize so each draw rounds to an integer greater than 0\n",
    "lognorm_50k = lognorm_50k/(10**np.floor(np.log10(lognorm_50k.min())))\n",
    "# generate benford object\n",
    "ben_lognorm_50k = benford(data=lognorm_50k, base=10, fd_loc=1, n_digits=1)\n",
    "\n",
    "# make benford distribution plot\n",
    "fig, ax = plt.subplots()\n",
    "ben_lognorm_50k.plot_benford_data(ax, sparse_frame=True, print_numbers=True)\n",
    "fig.tight_layout()\n",
    "# fig.savefig('Benford_lognorm_50k.png', fmt='png',\n",
    "#             facecolor=fig.get_facecolor(), edgecolor='none',\n",
    "#             bbox_inches='tight')\n",
    "\n",
    "# make confidence bound plots\n",
    "fig, ax = plt.subplots()\n",
    "ben_lognorm_50k.confidence_plot(ax)\n",
    "fig.tight_layout()\n",
    "# fig.savefig('Confidence_lognorm_50k.png', fmt='png',\n",
    "#             facecolor=fig.get_facecolor(), edgecolor='none',\n",
    "#             bbox_inches='tight')\n",
    "\n",
    "# determine which digits are rejected\n",
    "digits_rejected = ben_lognorm_50k.null_test()"
   ]
  },
  {
   "cell_type": "markdown",
   "metadata": {},
   "source": [
    "However, the idea the Benford law arises from the product of mutliple distributions seems to hold water as two log-normal distributions **extremely well** sampled (here we use $10^6$ samples each) and mutlipled together does not reject the null hypothesis."
   ]
  },
  {
   "cell_type": "code",
   "execution_count": null,
   "metadata": {},
   "outputs": [],
   "source": [
    "# draw from two lognormal distribution and multiple\n",
    "lognorm_1m_2 = (np.random.lognormal(size=1000000)\n",
    "                *np.random.lognormal(size=1000000))\n",
    "# normalize so each draw rounds to an integer greater than 0\n",
    "lognorm_1m_2 = lognorm_1m_2/(10**np.floor(np.log10(lognorm_1m_2.min())))\n",
    "# generate benford object\n",
    "ben_lognorm_1m_2 = benford(data=lognorm_1m_2, base=10, fd_loc=1, n_digits=1)\n",
    "\n",
    "# make benford distribution plot\n",
    "fig, ax = plt.subplots()\n",
    "ben_lognorm_1m_2.plot_benford_data(ax, sparse_frame=True, print_numbers=True)\n",
    "fig.tight_layout()\n",
    "\n",
    "# make confidence bound plots\n",
    "fig, ax = plt.subplots()\n",
    "ben_lognorm_1m_2.confidence_plot(ax)\n",
    "fig.tight_layout()\n",
    "\n",
    "# determine which digits are rejected\n",
    "digits_rejected = ben_lognorm_1m_2.null_test()"
   ]
  },
  {
   "cell_type": "markdown",
   "metadata": {},
   "source": [
    "## Genome Sizes Example from Friar et al. 2012 (see Lesperance et al. 2016)\n",
    "\n",
    "Lesperance et al. 2016 report an updated dataset of Friar et al. 2012 genome size database. We will use their reported frequencies to look at the Benford distribution. In this example we will use radix 10 (`base=10`), and only consider the first digit (`fd_loc=1`, and `n_digits=1`)."
   ]
  },
  {
   "cell_type": "code",
   "execution_count": null,
   "metadata": {},
   "outputs": [],
   "source": [
    "# base, first digit, number of digits\n",
    "b, fd, nd = 10, 1, 1\n",
    "# Frequency of first digit of genome sizes reported by Lesperance et al. 2016\n",
    "freq = np.asarray([48,14,12,6,18,5,7,5,6])\n",
    "# generate benford object\n",
    "ben = benford(frequency=freq, base=b, fd_loc=fd, n_digits=nd)\n",
    "\n",
    "# make benford distribution plot\n",
    "fig, ax = plt.subplots()\n",
    "ben.plot_benford_data(ax, method='Quesenberry')\n",
    "fig.tight_layout()\n",
    "\n",
    "# determine which digits are rejected\n",
    "digits_rejected = ben.null_test(method='Quesenberry')"
   ]
  },
  {
   "cell_type": "markdown",
   "metadata": {},
   "source": [
    "## Benford law in other radix\n",
    "\n",
    "We will now consider the same data but in a different radix, and looking at different digits in the number. Let's consider radix 3 and the 2nd thru 3rd digit, thus `base=3`, `fd_loc=2` since the first digit of interest is the 2nd on, and `n_digits=2` since we are interested in not only the 2nd digit in combination with the 3rd digit that follows it.\n",
    "\n",
    "We use the same reported dataset, which is not the actual digits of the genome size in radix 3 for possiblities of outcome for the 2nd and 3rd digit. Rather this example was constructed as it requires the same number of reported frequencies. Note that in radix 3, there are 3 possible numerals for each digit, and we are interested in 2 digit locations. Therefore there are 3x3 or $3^2$ possibilities. They are: $(0,0)_3, (0,1)_3, (0,2)_3, (1,0)_3, (1,1)_3, (1,2)_3, (2,0)_3, (2,1)_3, (2,2)_3$, and therefore we need frequencies for all 9 possiblities."
   ]
  },
  {
   "cell_type": "code",
   "execution_count": null,
   "metadata": {},
   "outputs": [],
   "source": [
    "# base, first digit, number of digits\n",
    "b, fd, nd = 3, 2, 2\n",
    "# Frequency of first digit of genome sizes reported by Lesperance et al. 2016\n",
    "freq = np.asarray([48,14,12,6,18,5,7,5,6])\n",
    "# generate benford object\n",
    "ben = benford(frequency=freq, base=b, fd_loc=fd, n_digits=nd)\n",
    "\n",
    "# make benford distribution plot\n",
    "fig, ax = plt.subplots()\n",
    "ben.plot_benford_data(ax)\n",
    "fig.tight_layout()\n",
    "\n",
    "# determine which digits are rejected\n",
    "digits_rejected = ben.null_test()"
   ]
  },
  {
   "cell_type": "markdown",
   "metadata": {},
   "source": [
    "We can also revist our highly sampled log-normal x log-normal distribution in a different radix and looking at other digits of the distribution."
   ]
  },
  {
   "cell_type": "code",
   "execution_count": null,
   "metadata": {},
   "outputs": [],
   "source": [
    "# base, first digit, number of digits\n",
    "b, fd, nd = 5, 2, 2\n",
    "\n",
    "# scale data so that all enteries round to integers larger than 0.\n",
    "scale = b**np.floor(np.log(lognorm_50k.min())/np.log(b)+2-fd-nd)\n",
    "lognorm_1m_2 /= scale\n",
    "# generate benford object\n",
    "ben = benford(data=lognorm_1m_2, base=b, fd_loc=fd, n_digits=nd)\n",
    "# scale data back\n",
    "lognorm_1m_2 *= scale\n",
    "\n",
    "# make benford distribution plot\n",
    "fig, ax = plt.subplots()\n",
    "ben.plot_benford_data(ax, sparse_frame=True)\n",
    "fig.tight_layout()\n",
    "# fig.savefig('Benford_radix5_digits2thru3.png', fmt='png',\n",
    "#             facecolor=fig.get_facecolor(), edgecolor='none',\n",
    "#             bbox_inches='tight')\n",
    "\n",
    "# make confidence bound plots\n",
    "fig, ax = plt.subplots()\n",
    "ben.confidence_plot(ax)\n",
    "fig.tight_layout()\n",
    "# fig.savefig('Confidence_radix5_digits2thru3.png', fmt='png',\n",
    "#             facecolor=fig.get_facecolor(), edgecolor='none',\n",
    "#             bbox_inches='tight')\n",
    "\n",
    "# determine which digits are rejected\n",
    "digits_rejected = ben.null_test()"
   ]
  }
 ],
 "metadata": {
  "kernelspec": {
   "display_name": "Python 3",
   "language": "python",
   "name": "python3"
  },
  "language_info": {
   "codemirror_mode": {
    "name": "ipython",
    "version": 3
   },
   "file_extension": ".py",
   "mimetype": "text/x-python",
   "name": "python",
   "nbconvert_exporter": "python",
   "pygments_lexer": "ipython3",
   "version": "3.7.7"
  }
 },
 "nbformat": 4,
 "nbformat_minor": 4
}
